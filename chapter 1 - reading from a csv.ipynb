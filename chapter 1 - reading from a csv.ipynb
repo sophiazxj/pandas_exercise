{
 "cells": [
  {
   "cell_type": "markdown",
   "metadata": {},
   "source": [
    "### Learn this through pandas cookbook\n",
    "\n",
    "There are examples with real-world data here which will be very helpful.\n",
    "\n",
    "We will use 3 datasets:\n",
    "* 311 calls in New York\n",
    "* How many people were on Montreal's bike paths in 2012\n",
    "* Montreal's weather for 2012, hourly\n",
    "---\n",
    "**ref:** [pandas cookbook](https://github.com/jvns/pandas-cookbook)"
   ]
  },
  {
   "cell_type": "code",
   "execution_count": null,
   "metadata": {
    "collapsed": true
   },
   "outputs": [],
   "source": []
  }
 ],
 "metadata": {
  "kernelspec": {
   "display_name": "Python 3",
   "language": "python",
   "name": "python3"
  },
  "language_info": {
   "codemirror_mode": {
    "name": "ipython",
    "version": 3
   },
   "file_extension": ".py",
   "mimetype": "text/x-python",
   "name": "python",
   "nbconvert_exporter": "python",
   "pygments_lexer": "ipython3",
   "version": "3.6.3"
  }
 },
 "nbformat": 4,
 "nbformat_minor": 2
}
